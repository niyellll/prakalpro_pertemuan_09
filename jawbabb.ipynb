{
 "cells": [
  {
   "cell_type": "markdown",
   "metadata": {},
   "source": [
    "Buatlah  sebuah program untuk mencari 3 nilai terbaik pada sebuah list. Program akan menampilkan 3 nilai terbaik dimulai dari yang paling tinggi "
   ]
  },
  {
   "cell_type": "code",
   "execution_count": 1,
   "metadata": {},
   "outputs": [
    {
     "name": "stdout",
     "output_type": "stream",
     "text": [
      "3 nilai terbaiknya adalah  98 90 72\n"
     ]
    }
   ],
   "source": [
    "def nilai_terbaek(list):\n",
    "    list.sort()\n",
    "    print('3 nilai terbaiknya adalah ',list[-1],list[-2],list[-3])\n",
    "\n",
    "nilai_terbaek([10,4,27,72,33,41,8,90,98])"
   ]
  },
  {
   "cell_type": "markdown",
   "metadata": {},
   "source": [
    "Buatlah sebuah program yang meminta masukan dari user dan menyimpannya dalam bentuk tipe data list dalam bentuk angka. Saat user memasukan \"done\", maka program akan menampilkan nilai maximum dan minimum dari deretan angka yang sudah user masukan. Gunakan fungsi list max() dan min() pada program ini."
   ]
  },
  {
   "cell_type": "code",
   "execution_count": 9,
   "metadata": {},
   "outputs": [
    {
     "name": "stdout",
     "output_type": "stream",
     "text": [
      "[21, 55, 76.8, 88, 54, 44, 34, 9, 3]\n",
      "Nilai Maksimum:  88\n",
      "Nilai Minimum:  3\n"
     ]
    }
   ],
   "source": [
    "list = []\n",
    "data = input('masukan nilai : ')\n",
    "while data != 'done':\n",
    "    data = eval(data)\n",
    "    list.append(data)\n",
    "    data = input ('masukan nilai')\n",
    "    \n",
    "print(list)\n",
    "print('Nilai Maksimum: ', max(list))\n",
    "print('Nilai Minimum: ', min(list))"
   ]
  },
  {
   "cell_type": "markdown",
   "metadata": {},
   "source": [
    "Carilah artikel berita pada media massa online. Simpan dalam bentuk file.txt. Buatlah program untuk membaca file.txt tersebut dan membaca file baris demi baris kalimat. Untuk setiap kalimat, pecahlah menjadi setiap kata dengan fungsi split(). Simpan kata pada variable kata dengan tipe data list. Hasil akhir program ialah variabel kata akan menyimpan kata unik pada file berita tersebut."
   ]
  },
  {
   "cell_type": "code",
   "execution_count": 16,
   "metadata": {},
   "outputs": [
    {
     "name": "stdout",
     "output_type": "stream",
     "text": [
      "====ISI BERTIANYA====\n",
      "Pemandangan gerhana matahari total melanda Benua Amerika pada Senin (8/4/2024), memberikan kesempatan kepada puluhan juta orang di Meksiko, Amerika Serikat,\n",
      "dan Kanada untuk menyaksikan pertunjukan langit yang langka dan memesona. Hampir 32 juta orang berada di jalur totalitas ketika bayangan bulan melintasi\n",
      "perbatasan Meksiko-Texas saat makan siang dan melintasi 15 negara bagian selama satu setengah jam berikutnya, meskipun banyak orang, terutama di wilayah\n",
      "selatan dan barat tengah, tidak dapat melihat dengan jelas oleh awan rendah dan hujan. Mereka yang sempat mengalaminya akan disuguhi pemandangan emosional\n",
      "yang luar biasa dan mengejutkan yang tidak akan terlihat lagi di AS hingga 2044. Kota-kota tiba-tiba tenggelam dalam kegelapan, kedinginan karena penurunan\n",
      "suhu yang drastis, dan merasakan keheningan senja di tengah hari. \"Ada sesuatu yang sangat misterius tentang gerhana matahari total, ketika siang berubah\n",
      "menjadi malam, hewan mulai berperilaku berbeda, dan kita melihat perubahan di atmosfer bumi,\" kata Pam Melroy, wakil kepala NASA, dan pensiunan astronot\n",
      "yang memiliki gelar dalam astronomi dan ilmu planet, kepada CNN International. \"Ini adalah pengalaman mistis dan misterius. Dan saya menyukai gagasan\n",
      "bahwa jutaan orang Amerika berdiri bersama hari ini, memandang ke langit.\" Pejabat pariwisata yakin setidaknya 4 hingga 5 juta orang melakukan perjalanan\n",
      "dari wilayah lain AS untuk menyaksikan pertunjukan tersebut, menjadikannya hari perjalanan terbesar di negara tersebut tahun ini dan diperkirakan menghasilkan\n",
      "peningkatan ekonomi sebesar US$1,5 miliar. Banyak yang sudah bangun sebelum fajar untuk mempertaruhkan tempat mereka, dan kota-kota dari Texas hingga Maine,\n",
      "serta kota-kota lain yang berada di luar jalur totalitas, mengadakan pesta menonton dan membagikan kacamata gerhana gratis. Joe Biden mengunggah pesan dari Gedung\n",
      "Putih, menyebut gerhana tersebut sebagai peristiwa yang \"patut dikagumi,\" dan mendesak warga Amerika untuk menggunakan kacamata pengaman saat melihat matahari.\n",
      "Wilayah Dallas-Fort Worth adalah wilayah metropolitan terbesar di jalur totalitas, menjadikan Texas utara sebagai tujuan utama dan berpotensi menimbulkan sakit\n",
      "kepala bagi penduduk setempat. Cuaca berawan membuat beberapa orang kesulitan pada menit-menit terakhir untuk mengubah rencana dan menuju langit yang lebih cerah,\n",
      "tetapi bagi sebagian besar wilayah Texas utara, semuanya sudah cerah. Ignas Barauskas melakukan perjalanan ke Texas dari Lithuania, tiba pada tengah malam,\n",
      "hanya beberapa jam sebelum gerhana dimulai.\n",
      "==== kata unik di berita ====\n",
      "['Pemandangan', 'gerhana', 'matahari', 'total', 'melanda', 'Benua', 'Amerika', 'pada', 'Senin', '(8/4/2024),', 'memberikan', 'kesempatan', 'kepada', 'puluhan', 'juta', 'orang', 'di', 'Meksiko,', 'Amerika', 'Serikat,', 'dan', 'Kanada', 'untuk', 'menyaksikan', 'pertunjukan', 'langit', 'yang', 'langka', 'dan', 'memesona.', 'Hampir', '32', 'juta', 'orang', 'berada', 'di', 'jalur', 'totalitas', 'ketika', 'bayangan', 'bulan', 'melintasi', 'perbatasan', 'Meksiko-Texas', 'saat', 'makan', 'siang', 'dan', 'melintasi', '15', 'negara', 'bagian', 'selama', 'satu', 'setengah', 'jam', 'berikutnya,', 'meskipun', 'banyak', 'orang,', 'terutama', 'di', 'wilayah', 'selatan', 'dan', 'barat', 'tengah,', 'tidak', 'dapat', 'melihat', 'dengan', 'jelas', 'oleh', 'awan', 'rendah', 'dan', 'hujan.', 'Mereka', 'yang', 'sempat', 'mengalaminya', 'akan', 'disuguhi', 'pemandangan', 'emosional', 'yang', 'luar', 'biasa', 'dan', 'mengejutkan', 'yang', 'tidak', 'akan', 'terlihat', 'lagi', 'di', 'AS', 'hingga', '2044.', 'Kota-kota', 'tiba-tiba', 'tenggelam', 'dalam', 'kegelapan,', 'kedinginan', 'karena', 'penurunan', 'suhu', 'yang', 'drastis,', 'dan', 'merasakan', 'keheningan', 'senja', 'di', 'tengah', 'hari.', '\"Ada', 'sesuatu', 'yang', 'sangat', 'misterius', 'tentang', 'gerhana', 'matahari', 'total,', 'ketika', 'siang', 'berubah', 'menjadi', 'malam,', 'hewan', 'mulai', 'berperilaku', 'berbeda,', 'dan', 'kita', 'melihat', 'perubahan', 'di', 'atmosfer', 'bumi,\"', 'kata', 'Pam', 'Melroy,', 'wakil', 'kepala', 'NASA,', 'dan', 'pensiunan', 'astronot', 'yang', 'memiliki', 'gelar', 'dalam', 'astronomi', 'dan', 'ilmu', 'planet,', 'kepada', 'CNN', 'International.', '\"Ini', 'adalah', 'pengalaman', 'mistis', 'dan', 'misterius.', 'Dan', 'saya', 'menyukai', 'gagasan', 'bahwa', 'jutaan', 'orang', 'Amerika', 'berdiri', 'bersama', 'hari', 'ini,', 'memandang', 'ke', 'langit.\"', 'Pejabat', 'pariwisata', 'yakin', 'setidaknya', '4', 'hingga', '5', 'juta', 'orang', 'melakukan', 'perjalanan', 'dari', 'wilayah', 'lain', 'AS', 'untuk', 'menyaksikan', 'pertunjukan', 'tersebut,', 'menjadikannya', 'hari', 'perjalanan', 'terbesar', 'di', 'negara', 'tersebut', 'tahun', 'ini', 'dan', 'diperkirakan', 'menghasilkan', 'peningkatan', 'ekonomi', 'sebesar', 'US$1,5', 'miliar.', 'Banyak', 'yang', 'sudah', 'bangun', 'sebelum', 'fajar', 'untuk', 'mempertaruhkan', 'tempat', 'mereka,', 'dan', 'kota-kota', 'dari', 'Texas', 'hingga', 'Maine,', 'serta', 'kota-kota', 'lain', 'yang', 'berada', 'di', 'luar', 'jalur', 'totalitas,', 'mengadakan', 'pesta', 'menonton', 'dan', 'membagikan', 'kacamata', 'gerhana', 'gratis.', 'Joe', 'Biden', 'mengunggah', 'pesan', 'dari', 'Gedung', 'Putih,', 'menyebut', 'gerhana', 'tersebut', 'sebagai', 'peristiwa', 'yang', '\"patut', 'dikagumi,\"', 'dan', 'mendesak', 'warga', 'Amerika', 'untuk', 'menggunakan', 'kacamata', 'pengaman', 'saat', 'melihat', 'matahari.', 'Wilayah', 'Dallas-Fort', 'Worth', 'adalah', 'wilayah', 'metropolitan', 'terbesar', 'di', 'jalur', 'totalitas,', 'menjadikan', 'Texas', 'utara', 'sebagai', 'tujuan', 'utama', 'dan', 'berpotensi', 'menimbulkan', 'sakit', 'kepala', 'bagi', 'penduduk', 'setempat.', 'Cuaca', 'berawan', 'membuat', 'beberapa', 'orang', 'kesulitan', 'pada', 'menit-menit', 'terakhir', 'untuk', 'mengubah', 'rencana', 'dan', 'menuju', 'langit', 'yang', 'lebih', 'cerah,', 'tetapi', 'bagi', 'sebagian', 'besar', 'wilayah', 'Texas', 'utara,', 'semuanya', 'sudah', 'cerah.', 'Ignas', 'Barauskas', 'melakukan', 'perjalanan', 'ke', 'Texas', 'dari', 'Lithuania,', 'tiba', 'pada', 'tengah', 'malam,', 'hanya', 'beberapa', 'jam', 'sebelum', 'gerhana', 'dimulai.']\n"
     ]
    }
   ],
   "source": [
    "with open('file.txt') as handle:\n",
    "    print('====ISI BERTIANYA====')\n",
    "    kata = []\n",
    "    for i in handle:\n",
    "        i = i.strip()\n",
    "        print(i)\n",
    "        i = i.split(' ')\n",
    "        kata.extend(i)\n",
    "\n",
    "print('''==== kata unik di berita ====''')\n",
    "print(kata)\n",
    "\n"
   ]
  }
 ],
 "metadata": {
  "kernelspec": {
   "display_name": "Python 3",
   "language": "python",
   "name": "python3"
  },
  "language_info": {
   "codemirror_mode": {
    "name": "ipython",
    "version": 3
   },
   "file_extension": ".py",
   "mimetype": "text/x-python",
   "name": "python",
   "nbconvert_exporter": "python",
   "pygments_lexer": "ipython3",
   "version": "3.12.0"
  }
 },
 "nbformat": 4,
 "nbformat_minor": 2
}
